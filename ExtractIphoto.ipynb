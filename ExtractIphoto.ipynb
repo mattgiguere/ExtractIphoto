{
 "metadata": {
  "name": "",
  "signature": "sha256:9f64eb757c3c6d884b8caffec310c5f74b303c3e9e39d3db11a32cbd44d9e54b"
 },
 "nbformat": 3,
 "nbformat_minor": 0,
 "worksheets": [
  {
   "cells": [
    {
     "cell_type": "heading",
     "level": 1,
     "metadata": {},
     "source": [
      "ExtractIphoto"
     ]
    },
    {
     "cell_type": "markdown",
     "metadata": {},
     "source": [
      "This library shows how to use the ExifRead python library to extract an iPhoto library and place all photos in a directory sorted by date."
     ]
    },
    {
     "cell_type": "code",
     "collapsed": false,
     "input": [
      "%pylab inline"
     ],
     "language": "python",
     "metadata": {},
     "outputs": [
      {
       "output_type": "stream",
       "stream": "stdout",
       "text": [
        "Populating the interactive namespace from numpy and matplotlib\n"
       ]
      }
     ],
     "prompt_number": 1
    },
    {
     "cell_type": "code",
     "collapsed": false,
     "input": [
      "import exifread\n",
      "import subprocess"
     ],
     "language": "python",
     "metadata": {},
     "outputs": [],
     "prompt_number": 4
    },
    {
     "cell_type": "code",
     "collapsed": false,
     "input": [
      "iphotodir = '/Volumes/PhotoLibrary/iPhoto\\ Library.photolibrary/'\n",
      "idir = iphotodir + 'Originals'\n",
      "\n",
      "newdir = '/Volumes/KNOX/PHOTOS/iPhotoExtract/'"
     ],
     "language": "python",
     "metadata": {},
     "outputs": [],
     "prompt_number": 5
    },
    {
     "cell_type": "code",
     "collapsed": false,
     "input": [],
     "language": "python",
     "metadata": {},
     "outputs": []
    }
   ],
   "metadata": {}
  }
 ]
}